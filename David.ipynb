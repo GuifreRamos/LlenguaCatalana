{
 "cells": [
  {
   "cell_type": "code",
   "execution_count": 10,
   "id": "18451c1d-a288-422d-a530-22c0f1a2970b",
   "metadata": {},
   "outputs": [],
   "source": [
    "import numpy as np\n",
    "import pandas as pd\n",
    "data_dir = \"../LlenguaCatalana/dades_david/\"\n",
    "\n",
    "\n",
    "dat1 = pd.read_csv(data_dir + \"cat2011.csv\", delimiter=\";\")\n",
    "dat2 = pd.read_csv(data_dir + \"cat2001.csv\", delimiter=\";\")\n",
    "dat3 = pd.read_csv(data_dir + \"est2011.csv\", delimiter=\";\",encoding=\"latin1\")\n",
    "dat4 = pd.read_csv(data_dir + \"est2001.csv\", delimiter=\";\",encoding=\"latin1\")\n",
    "\n",
    "# show loaded table:\n",
    "#dat4"
   ]
  },
  {
   "cell_type": "code",
   "execution_count": null,
   "id": "b1d97c73-cf3b-437c-8735-f2e0fc584261",
   "metadata": {},
   "outputs": [],
   "source": []
  }
 ],
 "metadata": {
  "kernelspec": {
   "display_name": "name_kernel",
   "language": "python",
   "name": "name_kernel"
  },
  "language_info": {
   "codemirror_mode": {
    "name": "ipython",
    "version": 3
   },
   "file_extension": ".py",
   "mimetype": "text/x-python",
   "name": "python",
   "nbconvert_exporter": "python",
   "pygments_lexer": "ipython3",
   "version": "3.11.8"
  }
 },
 "nbformat": 4,
 "nbformat_minor": 5
}
